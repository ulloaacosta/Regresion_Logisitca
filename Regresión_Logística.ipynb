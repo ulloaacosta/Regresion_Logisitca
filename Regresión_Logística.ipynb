{
 "cells": [
  {
   "cell_type": "markdown",
   "id": "e9d3b6e1-9841-47d4-be27-22232cee2bd9",
   "metadata": {},
   "source": [
    "## Regresión Logística"
   ]
  },
  {
   "cell_type": "markdown",
   "id": "6197882b-6996-40d0-a3e1-bf4910c2eff7",
   "metadata": {},
   "source": [
    "Victor Alfonso Ulloa Acosta - Grupo 54"
   ]
  },
  {
   "cell_type": "code",
   "execution_count": 5,
   "id": "0b66a750-38c0-4308-bb78-c52a19283768",
   "metadata": {},
   "outputs": [],
   "source": [
    "import pandas as pd # Manejo y análisis de estructuras de datos\n",
    "import numpy as np # Cálculo numérico y el análisis de datos\n",
    "import seaborn as sns # Creación gráficos estadísticos\n",
    "import matplotlib.pyplot as plt # Creación de gráficos en dos dimensiones\n",
    "from sklearn import metrics\n",
    "from sklearn.model_selection import train_test_split\n",
    "from sklearn.linear_model import LogisticRegression\n",
    "from sklearn.metrics import classification_report, confusion_matrix"
   ]
  },
  {
   "cell_type": "code",
   "execution_count": 194,
   "id": "305f4d60-24ea-4568-82e6-bfa3ec254056",
   "metadata": {},
   "outputs": [],
   "source": [
    "Datos = pd.read_csv('C:/ANALISIS/Rlogisitica/Heart.csv')"
   ]
  },
  {
   "cell_type": "code",
   "execution_count": 20,
   "id": "b2ae9554-e3a6-4af3-a6c6-8003c37a598d",
   "metadata": {
    "scrolled": true
   },
   "outputs": [
    {
     "data": {
      "text/html": [
       "<div>\n",
       "<style scoped>\n",
       "    .dataframe tbody tr th:only-of-type {\n",
       "        vertical-align: middle;\n",
       "    }\n",
       "\n",
       "    .dataframe tbody tr th {\n",
       "        vertical-align: top;\n",
       "    }\n",
       "\n",
       "    .dataframe thead th {\n",
       "        text-align: right;\n",
       "    }\n",
       "</style>\n",
       "<table border=\"1\" class=\"dataframe\">\n",
       "  <thead>\n",
       "    <tr style=\"text-align: right;\">\n",
       "      <th></th>\n",
       "      <th>age</th>\n",
       "      <th>sex</th>\n",
       "      <th>cp</th>\n",
       "      <th>trestbps</th>\n",
       "      <th>chol</th>\n",
       "      <th>fbs</th>\n",
       "      <th>restecg</th>\n",
       "      <th>thalach</th>\n",
       "      <th>exang</th>\n",
       "      <th>oldpeak</th>\n",
       "      <th>slope</th>\n",
       "      <th>ca</th>\n",
       "      <th>thal</th>\n",
       "      <th>condition</th>\n",
       "    </tr>\n",
       "  </thead>\n",
       "  <tbody>\n",
       "    <tr>\n",
       "      <th>0</th>\n",
       "      <td>69</td>\n",
       "      <td>1</td>\n",
       "      <td>0</td>\n",
       "      <td>160</td>\n",
       "      <td>234</td>\n",
       "      <td>1</td>\n",
       "      <td>2</td>\n",
       "      <td>131</td>\n",
       "      <td>0</td>\n",
       "      <td>0.1</td>\n",
       "      <td>1</td>\n",
       "      <td>1</td>\n",
       "      <td>0</td>\n",
       "      <td>0</td>\n",
       "    </tr>\n",
       "    <tr>\n",
       "      <th>1</th>\n",
       "      <td>69</td>\n",
       "      <td>0</td>\n",
       "      <td>0</td>\n",
       "      <td>140</td>\n",
       "      <td>239</td>\n",
       "      <td>0</td>\n",
       "      <td>0</td>\n",
       "      <td>151</td>\n",
       "      <td>0</td>\n",
       "      <td>1.8</td>\n",
       "      <td>0</td>\n",
       "      <td>2</td>\n",
       "      <td>0</td>\n",
       "      <td>0</td>\n",
       "    </tr>\n",
       "    <tr>\n",
       "      <th>2</th>\n",
       "      <td>66</td>\n",
       "      <td>0</td>\n",
       "      <td>0</td>\n",
       "      <td>150</td>\n",
       "      <td>226</td>\n",
       "      <td>0</td>\n",
       "      <td>0</td>\n",
       "      <td>114</td>\n",
       "      <td>0</td>\n",
       "      <td>2.6</td>\n",
       "      <td>2</td>\n",
       "      <td>0</td>\n",
       "      <td>0</td>\n",
       "      <td>0</td>\n",
       "    </tr>\n",
       "    <tr>\n",
       "      <th>3</th>\n",
       "      <td>65</td>\n",
       "      <td>1</td>\n",
       "      <td>0</td>\n",
       "      <td>138</td>\n",
       "      <td>282</td>\n",
       "      <td>1</td>\n",
       "      <td>2</td>\n",
       "      <td>174</td>\n",
       "      <td>0</td>\n",
       "      <td>1.4</td>\n",
       "      <td>1</td>\n",
       "      <td>1</td>\n",
       "      <td>0</td>\n",
       "      <td>1</td>\n",
       "    </tr>\n",
       "    <tr>\n",
       "      <th>4</th>\n",
       "      <td>64</td>\n",
       "      <td>1</td>\n",
       "      <td>0</td>\n",
       "      <td>110</td>\n",
       "      <td>211</td>\n",
       "      <td>0</td>\n",
       "      <td>2</td>\n",
       "      <td>144</td>\n",
       "      <td>1</td>\n",
       "      <td>1.8</td>\n",
       "      <td>1</td>\n",
       "      <td>0</td>\n",
       "      <td>0</td>\n",
       "      <td>0</td>\n",
       "    </tr>\n",
       "    <tr>\n",
       "      <th>5</th>\n",
       "      <td>64</td>\n",
       "      <td>1</td>\n",
       "      <td>0</td>\n",
       "      <td>170</td>\n",
       "      <td>227</td>\n",
       "      <td>0</td>\n",
       "      <td>2</td>\n",
       "      <td>155</td>\n",
       "      <td>0</td>\n",
       "      <td>0.6</td>\n",
       "      <td>1</td>\n",
       "      <td>0</td>\n",
       "      <td>2</td>\n",
       "      <td>0</td>\n",
       "    </tr>\n",
       "    <tr>\n",
       "      <th>6</th>\n",
       "      <td>63</td>\n",
       "      <td>1</td>\n",
       "      <td>0</td>\n",
       "      <td>145</td>\n",
       "      <td>233</td>\n",
       "      <td>1</td>\n",
       "      <td>2</td>\n",
       "      <td>150</td>\n",
       "      <td>0</td>\n",
       "      <td>2.3</td>\n",
       "      <td>2</td>\n",
       "      <td>0</td>\n",
       "      <td>1</td>\n",
       "      <td>0</td>\n",
       "    </tr>\n",
       "    <tr>\n",
       "      <th>7</th>\n",
       "      <td>61</td>\n",
       "      <td>1</td>\n",
       "      <td>0</td>\n",
       "      <td>134</td>\n",
       "      <td>234</td>\n",
       "      <td>0</td>\n",
       "      <td>0</td>\n",
       "      <td>145</td>\n",
       "      <td>0</td>\n",
       "      <td>2.6</td>\n",
       "      <td>1</td>\n",
       "      <td>2</td>\n",
       "      <td>0</td>\n",
       "      <td>1</td>\n",
       "    </tr>\n",
       "    <tr>\n",
       "      <th>8</th>\n",
       "      <td>60</td>\n",
       "      <td>0</td>\n",
       "      <td>0</td>\n",
       "      <td>150</td>\n",
       "      <td>240</td>\n",
       "      <td>0</td>\n",
       "      <td>0</td>\n",
       "      <td>171</td>\n",
       "      <td>0</td>\n",
       "      <td>0.9</td>\n",
       "      <td>0</td>\n",
       "      <td>0</td>\n",
       "      <td>0</td>\n",
       "      <td>0</td>\n",
       "    </tr>\n",
       "    <tr>\n",
       "      <th>9</th>\n",
       "      <td>59</td>\n",
       "      <td>1</td>\n",
       "      <td>0</td>\n",
       "      <td>178</td>\n",
       "      <td>270</td>\n",
       "      <td>0</td>\n",
       "      <td>2</td>\n",
       "      <td>145</td>\n",
       "      <td>0</td>\n",
       "      <td>4.2</td>\n",
       "      <td>2</td>\n",
       "      <td>0</td>\n",
       "      <td>2</td>\n",
       "      <td>0</td>\n",
       "    </tr>\n",
       "  </tbody>\n",
       "</table>\n",
       "</div>"
      ],
      "text/plain": [
       "   age  sex  cp  trestbps  chol  fbs  restecg  thalach  exang  oldpeak  slope  \\\n",
       "0   69    1   0       160   234    1        2      131      0      0.1      1   \n",
       "1   69    0   0       140   239    0        0      151      0      1.8      0   \n",
       "2   66    0   0       150   226    0        0      114      0      2.6      2   \n",
       "3   65    1   0       138   282    1        2      174      0      1.4      1   \n",
       "4   64    1   0       110   211    0        2      144      1      1.8      1   \n",
       "5   64    1   0       170   227    0        2      155      0      0.6      1   \n",
       "6   63    1   0       145   233    1        2      150      0      2.3      2   \n",
       "7   61    1   0       134   234    0        0      145      0      2.6      1   \n",
       "8   60    0   0       150   240    0        0      171      0      0.9      0   \n",
       "9   59    1   0       178   270    0        2      145      0      4.2      2   \n",
       "\n",
       "   ca  thal  condition  \n",
       "0   1     0          0  \n",
       "1   2     0          0  \n",
       "2   0     0          0  \n",
       "3   1     0          1  \n",
       "4   0     0          0  \n",
       "5   0     2          0  \n",
       "6   0     1          0  \n",
       "7   2     0          1  \n",
       "8   0     0          0  \n",
       "9   0     2          0  "
      ]
     },
     "execution_count": 20,
     "metadata": {},
     "output_type": "execute_result"
    }
   ],
   "source": [
    "## 1. Realizar un análisis exploratorio de los datos para identificar relaciones entre variables, valores atípicos, tendencias, etc.\n",
    "Datos.head(10)"
   ]
  },
  {
   "cell_type": "code",
   "execution_count": 23,
   "id": "508ac940-a491-4b79-8eab-23845ea8ed90",
   "metadata": {},
   "outputs": [
    {
     "data": {
      "text/html": [
       "<div>\n",
       "<style scoped>\n",
       "    .dataframe tbody tr th:only-of-type {\n",
       "        vertical-align: middle;\n",
       "    }\n",
       "\n",
       "    .dataframe tbody tr th {\n",
       "        vertical-align: top;\n",
       "    }\n",
       "\n",
       "    .dataframe thead th {\n",
       "        text-align: right;\n",
       "    }\n",
       "</style>\n",
       "<table border=\"1\" class=\"dataframe\">\n",
       "  <thead>\n",
       "    <tr style=\"text-align: right;\">\n",
       "      <th></th>\n",
       "      <th>age</th>\n",
       "      <th>sex</th>\n",
       "      <th>cp</th>\n",
       "      <th>trestbps</th>\n",
       "      <th>chol</th>\n",
       "      <th>fbs</th>\n",
       "      <th>restecg</th>\n",
       "      <th>thalach</th>\n",
       "      <th>exang</th>\n",
       "      <th>oldpeak</th>\n",
       "      <th>slope</th>\n",
       "      <th>ca</th>\n",
       "      <th>thal</th>\n",
       "      <th>condition</th>\n",
       "    </tr>\n",
       "  </thead>\n",
       "  <tbody>\n",
       "    <tr>\n",
       "      <th>count</th>\n",
       "      <td>297.000000</td>\n",
       "      <td>297.000000</td>\n",
       "      <td>297.000000</td>\n",
       "      <td>297.000000</td>\n",
       "      <td>297.000000</td>\n",
       "      <td>297.000000</td>\n",
       "      <td>297.000000</td>\n",
       "      <td>297.000000</td>\n",
       "      <td>297.000000</td>\n",
       "      <td>297.000000</td>\n",
       "      <td>297.000000</td>\n",
       "      <td>297.000000</td>\n",
       "      <td>297.000000</td>\n",
       "      <td>297.000000</td>\n",
       "    </tr>\n",
       "    <tr>\n",
       "      <th>mean</th>\n",
       "      <td>54.542088</td>\n",
       "      <td>0.676768</td>\n",
       "      <td>2.158249</td>\n",
       "      <td>131.693603</td>\n",
       "      <td>247.350168</td>\n",
       "      <td>0.144781</td>\n",
       "      <td>0.996633</td>\n",
       "      <td>149.599327</td>\n",
       "      <td>0.326599</td>\n",
       "      <td>1.055556</td>\n",
       "      <td>0.602694</td>\n",
       "      <td>0.676768</td>\n",
       "      <td>0.835017</td>\n",
       "      <td>0.461279</td>\n",
       "    </tr>\n",
       "    <tr>\n",
       "      <th>std</th>\n",
       "      <td>9.049736</td>\n",
       "      <td>0.468500</td>\n",
       "      <td>0.964859</td>\n",
       "      <td>17.762806</td>\n",
       "      <td>51.997583</td>\n",
       "      <td>0.352474</td>\n",
       "      <td>0.994914</td>\n",
       "      <td>22.941562</td>\n",
       "      <td>0.469761</td>\n",
       "      <td>1.166123</td>\n",
       "      <td>0.618187</td>\n",
       "      <td>0.938965</td>\n",
       "      <td>0.956690</td>\n",
       "      <td>0.499340</td>\n",
       "    </tr>\n",
       "    <tr>\n",
       "      <th>min</th>\n",
       "      <td>29.000000</td>\n",
       "      <td>0.000000</td>\n",
       "      <td>0.000000</td>\n",
       "      <td>94.000000</td>\n",
       "      <td>126.000000</td>\n",
       "      <td>0.000000</td>\n",
       "      <td>0.000000</td>\n",
       "      <td>71.000000</td>\n",
       "      <td>0.000000</td>\n",
       "      <td>0.000000</td>\n",
       "      <td>0.000000</td>\n",
       "      <td>0.000000</td>\n",
       "      <td>0.000000</td>\n",
       "      <td>0.000000</td>\n",
       "    </tr>\n",
       "    <tr>\n",
       "      <th>25%</th>\n",
       "      <td>48.000000</td>\n",
       "      <td>0.000000</td>\n",
       "      <td>2.000000</td>\n",
       "      <td>120.000000</td>\n",
       "      <td>211.000000</td>\n",
       "      <td>0.000000</td>\n",
       "      <td>0.000000</td>\n",
       "      <td>133.000000</td>\n",
       "      <td>0.000000</td>\n",
       "      <td>0.000000</td>\n",
       "      <td>0.000000</td>\n",
       "      <td>0.000000</td>\n",
       "      <td>0.000000</td>\n",
       "      <td>0.000000</td>\n",
       "    </tr>\n",
       "    <tr>\n",
       "      <th>50%</th>\n",
       "      <td>56.000000</td>\n",
       "      <td>1.000000</td>\n",
       "      <td>2.000000</td>\n",
       "      <td>130.000000</td>\n",
       "      <td>243.000000</td>\n",
       "      <td>0.000000</td>\n",
       "      <td>1.000000</td>\n",
       "      <td>153.000000</td>\n",
       "      <td>0.000000</td>\n",
       "      <td>0.800000</td>\n",
       "      <td>1.000000</td>\n",
       "      <td>0.000000</td>\n",
       "      <td>0.000000</td>\n",
       "      <td>0.000000</td>\n",
       "    </tr>\n",
       "    <tr>\n",
       "      <th>75%</th>\n",
       "      <td>61.000000</td>\n",
       "      <td>1.000000</td>\n",
       "      <td>3.000000</td>\n",
       "      <td>140.000000</td>\n",
       "      <td>276.000000</td>\n",
       "      <td>0.000000</td>\n",
       "      <td>2.000000</td>\n",
       "      <td>166.000000</td>\n",
       "      <td>1.000000</td>\n",
       "      <td>1.600000</td>\n",
       "      <td>1.000000</td>\n",
       "      <td>1.000000</td>\n",
       "      <td>2.000000</td>\n",
       "      <td>1.000000</td>\n",
       "    </tr>\n",
       "    <tr>\n",
       "      <th>max</th>\n",
       "      <td>77.000000</td>\n",
       "      <td>1.000000</td>\n",
       "      <td>3.000000</td>\n",
       "      <td>200.000000</td>\n",
       "      <td>564.000000</td>\n",
       "      <td>1.000000</td>\n",
       "      <td>2.000000</td>\n",
       "      <td>202.000000</td>\n",
       "      <td>1.000000</td>\n",
       "      <td>6.200000</td>\n",
       "      <td>2.000000</td>\n",
       "      <td>3.000000</td>\n",
       "      <td>2.000000</td>\n",
       "      <td>1.000000</td>\n",
       "    </tr>\n",
       "  </tbody>\n",
       "</table>\n",
       "</div>"
      ],
      "text/plain": [
       "              age         sex          cp    trestbps        chol         fbs  \\\n",
       "count  297.000000  297.000000  297.000000  297.000000  297.000000  297.000000   \n",
       "mean    54.542088    0.676768    2.158249  131.693603  247.350168    0.144781   \n",
       "std      9.049736    0.468500    0.964859   17.762806   51.997583    0.352474   \n",
       "min     29.000000    0.000000    0.000000   94.000000  126.000000    0.000000   \n",
       "25%     48.000000    0.000000    2.000000  120.000000  211.000000    0.000000   \n",
       "50%     56.000000    1.000000    2.000000  130.000000  243.000000    0.000000   \n",
       "75%     61.000000    1.000000    3.000000  140.000000  276.000000    0.000000   \n",
       "max     77.000000    1.000000    3.000000  200.000000  564.000000    1.000000   \n",
       "\n",
       "          restecg     thalach       exang     oldpeak       slope          ca  \\\n",
       "count  297.000000  297.000000  297.000000  297.000000  297.000000  297.000000   \n",
       "mean     0.996633  149.599327    0.326599    1.055556    0.602694    0.676768   \n",
       "std      0.994914   22.941562    0.469761    1.166123    0.618187    0.938965   \n",
       "min      0.000000   71.000000    0.000000    0.000000    0.000000    0.000000   \n",
       "25%      0.000000  133.000000    0.000000    0.000000    0.000000    0.000000   \n",
       "50%      1.000000  153.000000    0.000000    0.800000    1.000000    0.000000   \n",
       "75%      2.000000  166.000000    1.000000    1.600000    1.000000    1.000000   \n",
       "max      2.000000  202.000000    1.000000    6.200000    2.000000    3.000000   \n",
       "\n",
       "             thal   condition  \n",
       "count  297.000000  297.000000  \n",
       "mean     0.835017    0.461279  \n",
       "std      0.956690    0.499340  \n",
       "min      0.000000    0.000000  \n",
       "25%      0.000000    0.000000  \n",
       "50%      0.000000    0.000000  \n",
       "75%      2.000000    1.000000  \n",
       "max      2.000000    1.000000  "
      ]
     },
     "execution_count": 23,
     "metadata": {},
     "output_type": "execute_result"
    }
   ],
   "source": [
    "Datos.describe()"
   ]
  },
  {
   "cell_type": "code",
   "execution_count": 62,
   "id": "4dda32b2-3435-4a34-b167-bd533313493a",
   "metadata": {},
   "outputs": [
    {
     "data": {
      "text/plain": [
       "Text(0.5, 1.0, 'Identificación de datos faltantes y atípicos')"
      ]
     },
     "execution_count": 62,
     "metadata": {},
     "output_type": "execute_result"
    },
    {
     "data": {
      "image/png": "[encoded data removed]",
      "text/plain": [
       "<Figure size 600x300 with 1 Axes>"
      ]
     },
     "metadata": {},
     "output_type": "display_data"
    }
   ],
   "source": [
    "## Consulta de la columna \"chol\"\n",
    "plt.figure(figsize=(6, 3))\n",
    "sns.boxplot(x=Datos['chol'])\n",
    "plt.title('Identificación de datos faltantes y atípicos', fontsize = 10)"
   ]
  },
  {
   "cell_type": "code",
   "execution_count": 45,
   "id": "31d77473-cd51-4d70-a940-eac627802362",
   "metadata": {},
   "outputs": [
    {
     "data": {
      "text/plain": [
       "Text(0.5, 1.0, 'Identificación de datos faltantes y atípicos')"
      ]
     },
     "execution_count": 45,
     "metadata": {},
     "output_type": "execute_result"
    },
    {
     "data": {
      "image/png": "[encoded data removed]",
      "text/plain": [
       "<Figure size 600x300 with 1 Axes>"
      ]
     },
     "metadata": {},
     "output_type": "display_data"
    }
   ],
   "source": [
    "## Consulta de la columna \"oldpeak\"\n",
    "plt.figure(figsize=(6, 3))\n",
    "sns.boxplot(x=Datos['oldpeak'])\n",
    "plt.title('Identificación de datos faltantes y atípicos', fontsize = 10)"
   ]
  },
  {
   "cell_type": "code",
   "execution_count": 53,
   "id": "b9baab4f-9ddb-428f-9fa5-915123cffca9",
   "metadata": {},
   "outputs": [
    {
     "data": {
      "text/plain": [
       "Text(0.5, 1.0, 'Identificación de datos faltantes y atípicos')"
      ]
     },
     "execution_count": 53,
     "metadata": {},
     "output_type": "execute_result"
    },
    {
     "data": {
      "image/png": "[encoded data removed]",
      "text/plain": [
       "<Figure size 600x300 with 1 Axes>"
      ]
     },
     "metadata": {},
     "output_type": "display_data"
    }
   ],
   "source": [
    "## Consulta de la columna \"trestbps\"\n",
    "plt.figure(figsize=(6, 3))\n",
    "sns.boxplot(x=Datos['trestbps'])\n",
    "plt.title('Identificación de datos faltantes y atípicos', fontsize = 10)"
   ]
  },
  {
   "cell_type": "code",
   "execution_count": 56,
   "id": "d95d9450-314d-430f-9fdd-5e7fc8b3bb36",
   "metadata": {},
   "outputs": [
    {
     "data": {
      "text/plain": [
       "Text(0.5, 1.0, 'Identificación de datos faltantes y atípicos')"
      ]
     },
     "execution_count": 56,
     "metadata": {},
     "output_type": "execute_result"
    },
    {
     "data": {
      "image/png": "[encoded data removed]",
      "text/plain": [
       "<Figure size 600x300 with 1 Axes>"
      ]
     },
     "metadata": {},
     "output_type": "display_data"
    }
   ],
   "source": [
    "## Consulta de la columna \"thalach\"\n",
    "plt.figure(figsize=(6, 3))\n",
    "sns.boxplot(x=Datos['thalach'])\n",
    "plt.title('Identificación de datos faltantes y atípicos', fontsize = 10)"
   ]
  },
  {
   "cell_type": "code",
   "execution_count": 84,
   "id": "5bf98810-8733-47f9-8ae0-9f4b6e73dfa2",
   "metadata": {},
   "outputs": [
    {
     "name": "stdout",
     "output_type": "stream",
     "text": [
      "Cantidad de registros con cero en la columna -OLDPEAK:  96\n",
      "Cantidad de registros con cero en la columna -CA:  174\n",
      "Cantidad de registros con cero en la columna -THAL:  164\n"
     ]
    }
   ],
   "source": [
    "## 2. Preprocesar los datos, limpiándolos, tratando valores faltantes y transformándolos según sea necesario.\n",
    "print(\"Cantidad de registros con cero en la columna -OLDPEAK: \",Datos['oldpeak'].isin([0]).sum())\n",
    "print(\"Cantidad de registros con cero en la columna -CA: \",Datos['ca'].isin([0]).sum())\n",
    "print(\"Cantidad de registros con cero en la columna -THAL: \",Datos['thal'].isin([0]).sum())"
   ]
  },
  {
   "cell_type": "code",
   "execution_count": 88,
   "id": "b883e8c9-04ff-403a-8cd0-671f883b77bd",
   "metadata": {},
   "outputs": [],
   "source": [
    "## Reemplazo de todos los ceros por el valor medio de la columna.\n",
    "Datos['oldpeak'] = Datos['oldpeak'].replace(0,Datos['oldpeak'].mean())\n",
    "Datos['ca'] = Datos['ca'].replace(0,Datos['ca'].mean())\n",
    "Datos['thal'] = Datos['thal'].replace(0,Datos['thal'].mean())"
   ]
  },
  {
   "cell_type": "code",
   "execution_count": 90,
   "id": "6ab25b74-037f-4e6e-a747-570b664cc394",
   "metadata": {},
   "outputs": [
    {
     "name": "stdout",
     "output_type": "stream",
     "text": [
      "Cantidad de registros con cero en la columna -OLDPEAK:  0\n",
      "Cantidad de registros con cero en la columna -CA:  0\n",
      "Cantidad de registros con cero en la columna -THAL:  0\n"
     ]
    }
   ],
   "source": [
    "## Validación para verificar si los ceros fueron reemplazados correctamente.\n",
    "print(\"Cantidad de registros con cero en la columna -OLDPEAK: \",Datos['oldpeak'].isin([0]).sum())\n",
    "print(\"Cantidad de registros con cero en la columna -CA: \",Datos['ca'].isin([0]).sum())\n",
    "print(\"Cantidad de registros con cero en la columna -THAL: \",Datos['thal'].isin([0]).sum())"
   ]
  },
  {
   "cell_type": "code",
   "execution_count": 124,
   "id": "33f0132b-b539-4c24-820d-6768ffdd7086",
   "metadata": {},
   "outputs": [
    {
     "data": {
      "text/plain": [
       "Text(0.5, 1.0, 'Identificación de datos Atípicos')"
      ]
     },
     "execution_count": 124,
     "metadata": {},
     "output_type": "execute_result"
    },
    {
     "data": {
      "image/png": "[encoded data removed]",
      "text/plain": [
       "<Figure size 600x300 with 1 Axes>"
      ]
     },
     "metadata": {},
     "output_type": "display_data"
    }
   ],
   "source": [
    "## Identificación de datos atípicos en la columna \"chol\"\n",
    "plt.figure(figsize=(6, 3))\n",
    "sns.boxplot(x=Datos['chol'])\n",
    "plt.title('Identificación de datos Atípicos', fontsize = 10)"
   ]
  },
  {
   "cell_type": "code",
   "execution_count": 116,
   "id": "83a6e419-9a5d-463a-baf7-2bba22e0162a",
   "metadata": {},
   "outputs": [
    {
     "data": {
      "text/plain": [
       "Text(0.5, 1.0, 'Identificación de datos atípicos')"
      ]
     },
     "execution_count": 116,
     "metadata": {},
     "output_type": "execute_result"
    },
    {
     "data": {
      "image/png": "[encoded data removed]",
      "text/plain": [
       "<Figure size 600x300 with 1 Axes>"
      ]
     },
     "metadata": {},
     "output_type": "display_data"
    }
   ],
   "source": [
    "## Identificación de datos atípicos en la columna \"thalach\"\n",
    "plt.figure(figsize=(6, 3))\n",
    "sns.boxplot(x=Datos['thalach'])\n",
    "plt.title('Identificación de datos atípicos', fontsize = 10)"
   ]
  },
  {
   "cell_type": "code",
   "execution_count": 114,
   "id": "ca7456c2-7091-401a-8b04-36864394e028",
   "metadata": {},
   "outputs": [
    {
     "data": {
      "text/plain": [
       "Text(0.5, 1.0, 'Identificación de datos atípicos')"
      ]
     },
     "execution_count": 114,
     "metadata": {},
     "output_type": "execute_result"
    },
    {
     "data": {
      "image/png": "[encoded data removed]",
      "text/plain": [
       "<Figure size 600x300 with 1 Axes>"
      ]
     },
     "metadata": {},
     "output_type": "display_data"
    }
   ],
   "source": [
    "## Identificación de datos atípicos en la columna \"oldpeak\"\n",
    "plt.figure(figsize=(6, 3))\n",
    "sns.boxplot(x=Datos['oldpeak'])\n",
    "plt.title('Identificación de datos atípicos', fontsize = 10)"
   ]
  },
  {
   "cell_type": "code",
   "execution_count": 130,
   "id": "fea07ce8-0eae-4d79-961e-5c367cf87ed4",
   "metadata": {},
   "outputs": [
    {
     "name": "stdout",
     "output_type": "stream",
     "text": [
      "El total de datos atípicos es de 248\n"
     ]
    }
   ],
   "source": [
    "## Conteo de datos atípicos para la columna \"chol\"\n",
    "Rango_Min=126\n",
    "Rango_Max=200\n",
    "Total_Atipicos=((Datos['chol']<Rango_Min)|(Datos['chol']>Rango_Max)).sum()\n",
    "print(\"El total de datos atípicos es de {}\".format(Total_Atipicos))"
   ]
  },
  {
   "cell_type": "code",
   "execution_count": 136,
   "id": "1461b8e4-005b-4839-ba89-dd185f1916d8",
   "metadata": {},
   "outputs": [
    {
     "name": "stdout",
     "output_type": "stream",
     "text": [
      "El total de datos atípicos es de 289\n"
     ]
    }
   ],
   "source": [
    "## Conteo de datos atípicos para la columna \"thalach\"\n",
    "Rango_Min=60\n",
    "Rango_Max=100\n",
    "Total_Atipicos=((Datos['thalach']<Rango_Min)|(Datos['thalach']>Rango_Max)).sum()\n",
    "print(\"El total de datos atípicos es de {}\".format(Total_Atipicos))"
   ]
  },
  {
   "cell_type": "code",
   "execution_count": 144,
   "id": "0489b7b6-dbfe-403b-b37a-bd15a965e02f",
   "metadata": {},
   "outputs": [
    {
     "name": "stdout",
     "output_type": "stream",
     "text": [
      "El total de datos atípicos es de 279\n"
     ]
    }
   ],
   "source": [
    "## Conteo de datos atípicos para la columna \"oldpeak\"\n",
    "Rango_Min=0.0\n",
    "Rango_Max=0.2\n",
    "Total_Atipicos=((Datos['oldpeak']<Rango_Min)|(Datos['oldpeak']>Rango_Max)).sum()\n",
    "print(\"El total de datos atípicos es de {}\".format(Total_Atipicos))"
   ]
  },
  {
   "cell_type": "code",
   "execution_count": 148,
   "id": "5d2e25bb-a517-4c54-951c-3fed0752ee27",
   "metadata": {},
   "outputs": [],
   "source": [
    "# Filtrar datos atípicos de la columna \"chol\"\n",
    "Datos=Datos[((Datos['chol']<Rango_Max)&(Datos['chol']>Rango_Min))]"
   ]
  },
  {
   "cell_type": "code",
   "execution_count": 150,
   "id": "6b86bfb8-4f14-4305-a899-4a37e6fa5fc4",
   "metadata": {},
   "outputs": [],
   "source": [
    "# Filtrar datos atípicos de la columna \"thalach\"\n",
    "Datos=Datos[((Datos['thalach']<Rango_Max)&(Datos['thalach']>Rango_Min))]"
   ]
  },
  {
   "cell_type": "code",
   "execution_count": 152,
   "id": "66cd1ed5-6128-4d5b-bb07-3c4ec06422ac",
   "metadata": {},
   "outputs": [],
   "source": [
    "# Filtrar datos atípicos de la columna \"oldpeak\"\n",
    "Datos=Datos[((Datos['oldpeak']<Rango_Max)&(Datos['oldpeak']>Rango_Min))]"
   ]
  },
  {
   "cell_type": "code",
   "execution_count": 154,
   "id": "e09b2d86-0bb5-44ea-9aba-fe2fb7dc3808",
   "metadata": {},
   "outputs": [
    {
     "name": "stdout",
     "output_type": "stream",
     "text": [
      "El total de datos atípicos es de 0\n"
     ]
    }
   ],
   "source": [
    "## Verificar si los datos atípicos fueron removidos correctamente de la columna \"chol\"\n",
    "Total_Atipicos=((Datos['chol']<Rango_Min)|(Datos['chol']>Rango_Max)).sum()\n",
    "print(\"El total de datos atípicos es de {}\".format(Total_Atipicos))"
   ]
  },
  {
   "cell_type": "code",
   "execution_count": 156,
   "id": "d9c306be-d48a-4704-95e4-06ca306f5c29",
   "metadata": {},
   "outputs": [
    {
     "name": "stdout",
     "output_type": "stream",
     "text": [
      "El total de datos atípicos es de 0\n"
     ]
    }
   ],
   "source": [
    "## Verificar si los datos atípicos fueron removidos correctamente de la columna \"oldpeak\"\n",
    "Total_Atipicos=((Datos['oldpeak']<Rango_Min)|(Datos['oldpeak']>Rango_Max)).sum()\n",
    "print(\"El total de datos atípicos es de {}\".format(Total_Atipicos))"
   ]
  },
  {
   "cell_type": "code",
   "execution_count": 158,
   "id": "c1305ea2-0294-4861-94bb-1ec81363c38b",
   "metadata": {},
   "outputs": [
    {
     "name": "stdout",
     "output_type": "stream",
     "text": [
      "El total de datos atípicos es de 0\n"
     ]
    }
   ],
   "source": [
    "## Verificar si los datos atípicos fueron removidos correctamente de la columna \"thalach\"\n",
    "Total_Atipicos=((Datos['thalach']<Rango_Min)|(Datos['thalach']>Rango_Max)).sum()\n",
    "print(\"El total de datos atípicos es de {}\".format(Total_Atipicos))"
   ]
  },
  {
   "cell_type": "code",
   "execution_count": 160,
   "id": "c714f9a5-9316-4b85-8095-4625d948acf3",
   "metadata": {},
   "outputs": [
    {
     "name": "stdout",
     "output_type": "stream",
     "text": [
      "<class 'pandas.core.frame.DataFrame'>\n",
      "Index: 0 entries\n",
      "Data columns (total 14 columns):\n",
      " #   Column     Non-Null Count  Dtype  \n",
      "---  ------     --------------  -----  \n",
      " 0   age        0 non-null      int64  \n",
      " 1   sex        0 non-null      int64  \n",
      " 2   cp         0 non-null      int64  \n",
      " 3   trestbps   0 non-null      int64  \n",
      " 4   chol       0 non-null      int64  \n",
      " 5   fbs        0 non-null      int64  \n",
      " 6   restecg    0 non-null      int64  \n",
      " 7   thalach    0 non-null      int64  \n",
      " 8   exang      0 non-null      int64  \n",
      " 9   oldpeak    0 non-null      float64\n",
      " 10  slope      0 non-null      int64  \n",
      " 11  ca         0 non-null      float64\n",
      " 12  thal       0 non-null      float64\n",
      " 13  condition  0 non-null      int64  \n",
      "dtypes: float64(3), int64(11)\n",
      "memory usage: 0.0 bytes\n"
     ]
    }
   ],
   "source": [
    "#Revisión del tipo de datos y datos faltantes\n",
    "Datos.info()"
   ]
  },
  {
   "cell_type": "code",
   "execution_count": 202,
   "id": "5bc7bfd4-458e-4cab-a72a-3a377226b9ec",
   "metadata": {},
   "outputs": [
    {
     "data": {
      "text/plain": [
       "condition\n",
       "0    160\n",
       "1    137\n",
       "Name: count, dtype: int64"
      ]
     },
     "execution_count": 202,
     "metadata": {},
     "output_type": "execute_result"
    }
   ],
   "source": [
    "## Total de personas con enfermades cardíacas\n",
    "Datos['condition'].value_counts()"
   ]
  },
  {
   "cell_type": "code",
   "execution_count": 204,
   "id": "969e1fad-9a63-4624-93b3-c81739a6dee9",
   "metadata": {},
   "outputs": [],
   "source": [
    "## Se crean variables X y Y para almacenar la información del entrenamiento\n",
    "X = Datos.drop('condition',axis=1)\n",
    "Y = Datos['condition']"
   ]
  },
  {
   "cell_type": "code",
   "execution_count": 200,
   "id": "ece25d94-4682-4fc5-a71e-25ba16811b8c",
   "metadata": {},
   "outputs": [],
   "source": [
    "X_train, X_test, Y_train, Y_test = train_test_split(X, Y, test_size=0.30, stratify=Y, random_state=0)"
   ]
  },
  {
   "cell_type": "code",
   "execution_count": 208,
   "id": "ab95960e-20d7-4179-9ff8-6dc127751291",
   "metadata": {},
   "outputs": [
    {
     "name": "stdout",
     "output_type": "stream",
     "text": [
      "     age  sex  cp  trestbps  chol  fbs  restecg  thalach  exang  oldpeak  \\\n",
      "238   56    0   3       134   409    0        2      150      1      1.9   \n",
      "296   35    1   3       126   282    0        2      156      1      0.0   \n",
      "140   44    1   2       140   235    0        2      180      0      0.0   \n",
      "106   56    1   2       130   256    1        2      142      1      0.6   \n",
      "181   63    0   3       108   269    0        0      169      1      1.8   \n",
      "..   ...  ...  ..       ...   ...  ...      ...      ...    ...      ...   \n",
      "67    41    0   1       126   306    0        0      163      0      0.0   \n",
      "15    52    1   0       118   186    0        2      190      0      0.0   \n",
      "21    38    1   0       120   231    0        0      182      1      3.8   \n",
      "248   54    1   3       122   286    0        2      116      1      3.2   \n",
      "135   46    0   2       142   177    0        2      160      1      1.4   \n",
      "\n",
      "     slope  ca  thal  \n",
      "238      1   2     2  \n",
      "296      0   0     2  \n",
      "140      0   0     0  \n",
      "106      1   1     1  \n",
      "181      1   2     0  \n",
      "..     ...  ..   ...  \n",
      "67       0   0     0  \n",
      "15       1   0     1  \n",
      "21       1   0     2  \n",
      "248      1   2     0  \n",
      "135      2   0     0  \n",
      "\n",
      "[207 rows x 13 columns]\n"
     ]
    }
   ],
   "source": [
    "## Imprime el valor de Train\n",
    "print (X_train)\n"
   ]
  },
  {
   "cell_type": "code",
   "execution_count": 212,
   "id": "1f78384b-39fc-4556-b1c6-2e9e5f891923",
   "metadata": {},
   "outputs": [
    {
     "name": "stdout",
     "output_type": "stream",
     "text": [
      "     age  sex  cp  trestbps  chol  fbs  restecg  thalach  exang  oldpeak  \\\n",
      "255   52    1   3       128   255    0        0      161      1      0.0   \n",
      "219   58    0   3       170   225    1        2      146      1      2.8   \n",
      "7     61    1   0       134   234    0        0      145      0      2.6   \n",
      "43    54    1   1       108   309    0        0      156      0      0.0   \n",
      "54    46    1   1       101   197    1        0      156      0      0.0   \n",
      "..   ...  ...  ..       ...   ...  ...      ...      ...    ...      ...   \n",
      "5     64    1   0       170   227    0        2      155      0      0.6   \n",
      "89    63    0   2       135   252    0        2      172      0      0.0   \n",
      "267   48    1   3       124   274    0        2      166      0      0.5   \n",
      "157   70    1   3       145   174    0        0      125      1      2.6   \n",
      "208   59    1   3       110   239    0        2      142      1      1.2   \n",
      "\n",
      "     slope  ca  thal  \n",
      "255      0   1     2  \n",
      "219      1   2     1  \n",
      "7        1   2     0  \n",
      "43       0   0     2  \n",
      "54       0   0     2  \n",
      "..     ...  ..   ...  \n",
      "5        1   0     2  \n",
      "89       0   0     0  \n",
      "267      1   0     2  \n",
      "157      2   0     2  \n",
      "208      1   1     2  \n",
      "\n",
      "[90 rows x 13 columns]\n"
     ]
    }
   ],
   "source": [
    "## Imprime el valor de Test\n",
    "print (X_test)"
   ]
  },
  {
   "cell_type": "code",
   "execution_count": 214,
   "id": "87ac6967-2f1b-4598-a765-a2b430288290",
   "metadata": {},
   "outputs": [],
   "source": [
    "## Construcción del modelo de Regresión logísitica\n",
    "modelo_regresion = LogisticRegression(solver = \"liblinear\")\n",
    "modelo_regresion.fit (X_train, Y_train)\n",
    "Prediccion = modelo_regresion.predict(X_test)"
   ]
  },
  {
   "cell_type": "code",
   "execution_count": 216,
   "id": "55623821-f95e-4c04-87d2-cd2e2d0653c5",
   "metadata": {},
   "outputs": [
    {
     "data": {
      "text/html": [
       "<div>\n",
       "<style scoped>\n",
       "    .dataframe tbody tr th:only-of-type {\n",
       "        vertical-align: middle;\n",
       "    }\n",
       "\n",
       "    .dataframe tbody tr th {\n",
       "        vertical-align: top;\n",
       "    }\n",
       "\n",
       "    .dataframe thead th {\n",
       "        text-align: right;\n",
       "    }\n",
       "</style>\n",
       "<table border=\"1\" class=\"dataframe\">\n",
       "  <thead>\n",
       "    <tr style=\"text-align: right;\">\n",
       "      <th></th>\n",
       "      <th>age</th>\n",
       "      <th>sex</th>\n",
       "      <th>cp</th>\n",
       "      <th>trestbps</th>\n",
       "      <th>chol</th>\n",
       "      <th>fbs</th>\n",
       "      <th>restecg</th>\n",
       "      <th>thalach</th>\n",
       "      <th>exang</th>\n",
       "      <th>oldpeak</th>\n",
       "      <th>slope</th>\n",
       "      <th>ca</th>\n",
       "      <th>thal</th>\n",
       "    </tr>\n",
       "  </thead>\n",
       "  <tbody>\n",
       "    <tr>\n",
       "      <th>255</th>\n",
       "      <td>52</td>\n",
       "      <td>1</td>\n",
       "      <td>3</td>\n",
       "      <td>128</td>\n",
       "      <td>255</td>\n",
       "      <td>0</td>\n",
       "      <td>0</td>\n",
       "      <td>161</td>\n",
       "      <td>1</td>\n",
       "      <td>0.0</td>\n",
       "      <td>0</td>\n",
       "      <td>1</td>\n",
       "      <td>2</td>\n",
       "    </tr>\n",
       "    <tr>\n",
       "      <th>219</th>\n",
       "      <td>58</td>\n",
       "      <td>0</td>\n",
       "      <td>3</td>\n",
       "      <td>170</td>\n",
       "      <td>225</td>\n",
       "      <td>1</td>\n",
       "      <td>2</td>\n",
       "      <td>146</td>\n",
       "      <td>1</td>\n",
       "      <td>2.8</td>\n",
       "      <td>1</td>\n",
       "      <td>2</td>\n",
       "      <td>1</td>\n",
       "    </tr>\n",
       "    <tr>\n",
       "      <th>7</th>\n",
       "      <td>61</td>\n",
       "      <td>1</td>\n",
       "      <td>0</td>\n",
       "      <td>134</td>\n",
       "      <td>234</td>\n",
       "      <td>0</td>\n",
       "      <td>0</td>\n",
       "      <td>145</td>\n",
       "      <td>0</td>\n",
       "      <td>2.6</td>\n",
       "      <td>1</td>\n",
       "      <td>2</td>\n",
       "      <td>0</td>\n",
       "    </tr>\n",
       "    <tr>\n",
       "      <th>43</th>\n",
       "      <td>54</td>\n",
       "      <td>1</td>\n",
       "      <td>1</td>\n",
       "      <td>108</td>\n",
       "      <td>309</td>\n",
       "      <td>0</td>\n",
       "      <td>0</td>\n",
       "      <td>156</td>\n",
       "      <td>0</td>\n",
       "      <td>0.0</td>\n",
       "      <td>0</td>\n",
       "      <td>0</td>\n",
       "      <td>2</td>\n",
       "    </tr>\n",
       "    <tr>\n",
       "      <th>54</th>\n",
       "      <td>46</td>\n",
       "      <td>1</td>\n",
       "      <td>1</td>\n",
       "      <td>101</td>\n",
       "      <td>197</td>\n",
       "      <td>1</td>\n",
       "      <td>0</td>\n",
       "      <td>156</td>\n",
       "      <td>0</td>\n",
       "      <td>0.0</td>\n",
       "      <td>0</td>\n",
       "      <td>0</td>\n",
       "      <td>2</td>\n",
       "    </tr>\n",
       "    <tr>\n",
       "      <th>235</th>\n",
       "      <td>56</td>\n",
       "      <td>1</td>\n",
       "      <td>3</td>\n",
       "      <td>130</td>\n",
       "      <td>283</td>\n",
       "      <td>1</td>\n",
       "      <td>2</td>\n",
       "      <td>103</td>\n",
       "      <td>1</td>\n",
       "      <td>1.6</td>\n",
       "      <td>2</td>\n",
       "      <td>0</td>\n",
       "      <td>2</td>\n",
       "    </tr>\n",
       "    <tr>\n",
       "      <th>33</th>\n",
       "      <td>57</td>\n",
       "      <td>0</td>\n",
       "      <td>1</td>\n",
       "      <td>130</td>\n",
       "      <td>236</td>\n",
       "      <td>0</td>\n",
       "      <td>2</td>\n",
       "      <td>174</td>\n",
       "      <td>0</td>\n",
       "      <td>0.0</td>\n",
       "      <td>1</td>\n",
       "      <td>1</td>\n",
       "      <td>0</td>\n",
       "    </tr>\n",
       "    <tr>\n",
       "      <th>185</th>\n",
       "      <td>62</td>\n",
       "      <td>0</td>\n",
       "      <td>3</td>\n",
       "      <td>140</td>\n",
       "      <td>268</td>\n",
       "      <td>0</td>\n",
       "      <td>2</td>\n",
       "      <td>160</td>\n",
       "      <td>0</td>\n",
       "      <td>3.6</td>\n",
       "      <td>2</td>\n",
       "      <td>2</td>\n",
       "      <td>0</td>\n",
       "    </tr>\n",
       "    <tr>\n",
       "      <th>137</th>\n",
       "      <td>44</td>\n",
       "      <td>0</td>\n",
       "      <td>2</td>\n",
       "      <td>108</td>\n",
       "      <td>141</td>\n",
       "      <td>0</td>\n",
       "      <td>0</td>\n",
       "      <td>175</td>\n",
       "      <td>0</td>\n",
       "      <td>0.6</td>\n",
       "      <td>1</td>\n",
       "      <td>0</td>\n",
       "      <td>0</td>\n",
       "    </tr>\n",
       "    <tr>\n",
       "      <th>129</th>\n",
       "      <td>49</td>\n",
       "      <td>1</td>\n",
       "      <td>2</td>\n",
       "      <td>118</td>\n",
       "      <td>149</td>\n",
       "      <td>0</td>\n",
       "      <td>2</td>\n",
       "      <td>126</td>\n",
       "      <td>0</td>\n",
       "      <td>0.8</td>\n",
       "      <td>0</td>\n",
       "      <td>3</td>\n",
       "      <td>0</td>\n",
       "    </tr>\n",
       "  </tbody>\n",
       "</table>\n",
       "</div>"
      ],
      "text/plain": [
       "     age  sex  cp  trestbps  chol  fbs  restecg  thalach  exang  oldpeak  \\\n",
       "255   52    1   3       128   255    0        0      161      1      0.0   \n",
       "219   58    0   3       170   225    1        2      146      1      2.8   \n",
       "7     61    1   0       134   234    0        0      145      0      2.6   \n",
       "43    54    1   1       108   309    0        0      156      0      0.0   \n",
       "54    46    1   1       101   197    1        0      156      0      0.0   \n",
       "235   56    1   3       130   283    1        2      103      1      1.6   \n",
       "33    57    0   1       130   236    0        2      174      0      0.0   \n",
       "185   62    0   3       140   268    0        2      160      0      3.6   \n",
       "137   44    0   2       108   141    0        0      175      0      0.6   \n",
       "129   49    1   2       118   149    0        2      126      0      0.8   \n",
       "\n",
       "     slope  ca  thal  \n",
       "255      0   1     2  \n",
       "219      1   2     1  \n",
       "7        1   2     0  \n",
       "43       0   0     2  \n",
       "54       0   0     2  \n",
       "235      2   0     2  \n",
       "33       1   1     0  \n",
       "185      2   2     0  \n",
       "137      1   0     0  \n",
       "129      0   3     0  "
      ]
     },
     "execution_count": 216,
     "metadata": {},
     "output_type": "execute_result"
    }
   ],
   "source": [
    "X_test.head(10)"
   ]
  },
  {
   "cell_type": "code",
   "execution_count": 218,
   "id": "8df830b9-7fba-4ee7-b105-acad348163ba",
   "metadata": {},
   "outputs": [
    {
     "name": "stdout",
     "output_type": "stream",
     "text": [
      "[1 1 0 0 0 1 0 1 0 1 1 1 1 0 1 1 0 1 0 1 0 0 0 1 1 0 1 0 1 0 0 0 1 0 0 0 0\n",
      " 1 0 0 1 0 0 0 0 0 1 0 0 1 0 0 0 0 0 1 1 1 0 1 0 1 0 0 0 0 1 0 0 0 0 1 1 0\n",
      " 0 1 1 0 1 1 1 1 0 0 1 0 0 1 1 1]\n"
     ]
    }
   ],
   "source": [
    "## Muestra la Predicción\n",
    "print (Prediccion)"
   ]
  },
  {
   "cell_type": "code",
   "execution_count": 220,
   "id": "c1fed04d-7421-437b-bd71-fda433f6e7b4",
   "metadata": {},
   "outputs": [
    {
     "name": "stdout",
     "output_type": "stream",
     "text": [
      "              precision    recall  f1-score   support\n",
      "\n",
      "           0       0.86      0.92      0.89        48\n",
      "           1       0.90      0.83      0.86        42\n",
      "\n",
      "    accuracy                           0.88        90\n",
      "   macro avg       0.88      0.88      0.88        90\n",
      "weighted avg       0.88      0.88      0.88        90\n",
      "\n"
     ]
    }
   ],
   "source": [
    "## Evaluación del desempeño del modelo \"carga de métricas\"\n",
    "print (classification_report(Y_test,Prediccion))"
   ]
  },
  {
   "cell_type": "code",
   "execution_count": 222,
   "id": "ebea02dd-855f-4dfe-82f7-27b95308b52c",
   "metadata": {},
   "outputs": [
    {
     "data": {
      "text/plain": [
       "<sklearn.metrics._plot.confusion_matrix.ConfusionMatrixDisplay at 0x21fc13a0bc0>"
      ]
     },
     "execution_count": 222,
     "metadata": {},
     "output_type": "execute_result"
    },
    {
     "data": {
      "image/png": "[encoded data removed]",
      "text/plain": [
       "<Figure size 640x480 with 2 Axes>"
      ]
     },
     "metadata": {},
     "output_type": "display_data"
    }
   ],
   "source": [
    "## Gráfica de \"Matriz de confusión\"\n",
    "cm=confusion_matrix(Y_test,Prediccion)\n",
    "disp=metrics.ConfusionMatrixDisplay(confusion_matrix=cm)\n",
    "disp.plot()"
   ]
  },
  {
   "cell_type": "code",
   "execution_count": 224,
   "id": "c6c4d466-c9c8-4a0b-81df-82904eb87ed7",
   "metadata": {},
   "outputs": [
    {
     "data": {
      "image/png": "[encoded data removed]",
      "text/plain": [
       "<Figure size 640x480 with 1 Axes>"
      ]
     },
     "metadata": {},
     "output_type": "display_data"
    }
   ],
   "source": [
    "## Gráfica de \"Curva de precisión\":\n",
    "from sklearn.metrics import RocCurveDisplay\n",
    "RocCurveDisplay.from_predictions(Y_test, Prediccion)\n",
    "plt.show()"
   ]
  },
  {
   "cell_type": "markdown",
   "id": "859f1abf-6a01-4295-a794-7064495c813f",
   "metadata": {},
   "source": [
    "## Interpretación, análisis y documentación de resultados"
   ]
  },
  {
   "cell_type": "markdown",
   "id": "7f1ac0bf-5388-4c88-b3b8-dd687dcea7ea",
   "metadata": {},
   "source": [
    "Los resultados obtenidos han permitido poner en práctica los conocimientos adquiridos sobre modelos predictivos. Se ha explorado el algoritmo de Regresión Logística, utilizando el dataset \"Heart.csv\" de Kaggle, el cual contiene información sobre pacientes con enfermedades cardíacas.\n",
    "\n",
    "1. Cargue de las Librerías:\n",
    "\n",
    "Se importan las librerías necesarias para el análisis y modelado de datos.\n",
    "pandas: Para manejo y análisis de estructuras de datos (DataFrames).\n",
    "numpy: Para cálculo numérico y análisis de datos.\n",
    "seaborn: Para creación de gráficos estadísticos.\n",
    "matplotlib.pyplot: Para creación de gráficos en dos dimensiones.\n",
    "sklearn.metrics: Para métricas de evaluación de modelos.\n",
    "sklearn.model_selection: Para división de datos en conjuntos de entrenamiento y prueba.\n",
    "sklearn.linear_model: Para el modelo de Regresión Logística.\n",
    "\n",
    "2. Cargue del Dataset:\n",
    "\n",
    "Se carga el dataset \"Heart.csv\" utilizando la función `pd.read_csv()`.\n",
    "\n",
    "3. Análisis Exploratorio de los Datos:\n",
    "\n",
    "Se visualiza la información general del dataset utilizando `Datos.head(10)` para mostrar las primeras 10 filas.\n",
    "Se utiliza `Datos.describe()` para obtener estadísticas descriptivas de las columnas numéricas, incluyendo la media, desviación estándar, valores mínimo y máximo, percentiles, etc.\n",
    "\n",
    "4. Preprocesamiento de los Datos:\n",
    "\n",
    "Reemplazo de ceros por el valor medio: Se reemplazan los ceros en las columnas \"oldpeak\", \"ca\" y \"thal\" por el valor medio de la columna respectiva.\n",
    "Validación del reemplazo: Se verifica que los ceros fueron reemplazados correctamente mediante la suma de los registros con cero en cada columna.\n",
    "\n",
    "5. Identificación de Datos Atípicos:\n",
    "\n",
    "Se utilizan gráficos de caja (boxplots) para visualizar la distribución de los datos y detectar posibles valores atípicos en las columnas \"chol\", \"fbs\", \"thalach\" y \"oldpeak\".\n",
    "Se define un rango de valores para cada columna y se cuenta la cantidad de datos atípicos.\n",
    "\n",
    "6. Filtrado de Datos Atípicos:\n",
    "\n",
    "Se filtran los datos atípicos de las columnas \"chol\", \"thalach\" y \"oldpeak\" según los rangos definidos anteriormente.\n",
    "\n",
    "7. Verificación de la Eliminación de Datos Atípicos:\n",
    "\n",
    "Se verifica que los datos atípicos fueron eliminados correctamente mediante la suma de los registros atípicos en cada columna.\n",
    "\n",
    "8. Revisión del Tipo de Datos y Datos Faltantes:\n",
    "\n",
    "Se utiliza `Datos.info()` para revisar el tipo de datos de cada columna y la cantidad de datos faltantes.\n",
    "\n",
    "9. Total de Personas con Enfermedades Cardíacas:\n",
    "\n",
    "Se cuenta la cantidad de registros con \"condition\" igual a 1, lo que representa el número de personas con enfermedades cardíacas.\n",
    "\n",
    "10. Creación de las Variables X y Y:\n",
    "\n",
    "Se crea la variable `X` que contiene todas las columnas del dataset excepto \"condition\".\n",
    "Se crea la variable `Y` que contiene la columna \"condition\", que será la variable objetivo a predecir.\n",
    "\n",
    "11. División de los Datos en Train y Test:\n",
    "\n",
    "Se utiliza la función `train_test_split()` para dividir los datos en conjuntos de entrenamiento (Train) y prueba (Test) con una proporción de 70% - 30%, respectivamente.\n",
    "\n",
    "12. Construcción del Modelo de Regresión Logística:\n",
    "\n",
    "Se crea un modelo de Regresión Logística utilizando la función `LogisticRegression()`.\n",
    "Se entrena el modelo con los datos de entrenamiento utilizando la función `fit()`.\n",
    "Se realizan predicciones con el modelo utilizando la función `predict()`.\n",
    "\n",
    "13. Evaluación del Desempeño del Modelo:\n",
    "\n",
    "Matriz de Confusión: La gráfica muestra que el modelo predice correctamente 44 casos de personas sin enfermedades cardíacas (verdaderos negativos) y 35 casos de personas con enfermedades cardíacas (verdaderos positivos).\n",
    "4 falsos positivos: El modelo predice que 4 personas tienen enfermedades cardíacas, cuando en realidad no las tienen.\n",
    "7 falsos negativos: El modelo predice que 7 personas no tienen enfermedades cardíacas, cuando en realidad sí las tienen.\n",
    "Métricas: Se utiliza la función `classification_report()` para obtener métricas de desempeño del modelo, como precisión, recall, F1-score y exactitud.\n",
    "Curva ROC: La gráfica de la curva ROC muestra que el modelo tiene un área bajo la curva (AUC) de 0.88. Esto indica que el modelo tiene una buena capacidad para discriminar entre las clases. \n",
    "\n",
    "14. Interpretación de los Resultados:\n",
    "\n",
    "El modelo de Regresión Logística ha logrado una buena precisión en la predicción de la presencia de enfermedad cardíaca. \n",
    "Se observa un buen equilibrio entre la precisión y el recall, lo que indica que el modelo puede identificar correctamente casos positivos y negativos.\n",
    "La curva ROC muestra una buena capacidad del modelo para discriminar entre las clases."
   ]
  },
  {
   "cell_type": "code",
   "execution_count": null,
   "id": "b22885d7-4832-4b22-9f1d-57217024139a",
   "metadata": {},
   "outputs": [],
   "source": []
  }
 ],
 "metadata": {
  "kernelspec": {
   "display_name": "Python [conda env:base] *",
   "language": "python",
   "name": "conda-base-py"
  },
  "language_info": {
   "codemirror_mode": {
    "name": "ipython",
    "version": 3
   },
   "file_extension": ".py",
   "mimetype": "text/x-python",
   "name": "python",
   "nbconvert_exporter": "python",
   "pygments_lexer": "ipython3",
   "version": "3.12.7"
  }
 },
 "nbformat": 4,
 "nbformat_minor": 5
}
